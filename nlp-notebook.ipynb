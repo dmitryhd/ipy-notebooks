{
 "cells": [
  {
   "cell_type": "code",
   "execution_count": 1,
   "metadata": {
    "ExecuteTime": {
     "end_time": "2016-08-01T08:39:39.349597",
     "start_time": "2016-08-01T08:39:38.341068"
    },
    "collapsed": true
   },
   "outputs": [],
   "source": [
    "import pandas as pd\n",
    "\n",
    "from nltk.corpus import stopwords as sw\n",
    "from multiprocessing import Pool\n",
    "from gensim.models.phrases import Phrases\n",
    "from gensim.corpora import Dictionary\n",
    "import pymorphy2\n",
    "import re"
   ]
  },
  {
   "cell_type": "code",
   "execution_count": null,
   "metadata": {
    "collapsed": true
   },
   "outputs": [],
   "source": [
    "morph = pymorphy2.MorphAnalyzer()\n",
    "token_pattern = re.compile(r'\\b[\\w\\.\\/]+\\b')\n",
    "tokenize = lambda doc: token_pattern.findall(doc)\n",
    "\n",
    "badlist = set(['отличный', 'идеальный', 'состояние', 'продажа', 'продавать', 'обменять', \n",
    "               'москва', 'продать', 'хороший', 'продаваться', 'супер'])\n",
    "\n",
    "def get_tokens(line):\n",
    "    cur_line = tokenize(line)\n",
    "    normalized_tokens = [morph.parse(x)[0].normal_form for x in cur_line]\n",
    "    filtered_tokens = [token for token in normalized_tokens if not token in badlist and not token in stopwords]  \n",
    "    return filtered_tokens"
   ]
  },
  {
   "cell_type": "code",
   "execution_count": null,
   "metadata": {
    "collapsed": true
   },
   "outputs": [],
   "source": [
    "pool = Pool()\n",
    "df_searchquery['norm_query'] = pool.map(get_tokens, df_searchquery['query'].values)\n",
    "pool.terminate()"
   ]
  },
  {
   "cell_type": "code",
   "execution_count": null,
   "metadata": {
    "collapsed": true
   },
   "outputs": [],
   "source": [
    "bigram_transformer = Phrases(df_searchquery['norm_query'].values)\n",
    "df_searchquery['norm_query'] = [bigram_transformer[q] for q in df_searchquery['norm_query']]"
   ]
  }
 ],
 "metadata": {
  "kernelspec": {
   "display_name": "Python 3",
   "language": "python",
   "name": "python3"
  },
  "language_info": {
   "codemirror_mode": {
    "name": "ipython",
    "version": 3
   },
   "file_extension": ".py",
   "mimetype": "text/x-python",
   "name": "python",
   "nbconvert_exporter": "python",
   "pygments_lexer": "ipython3",
   "version": "3.4.5"
  },
  "nav_menu": {},
  "toc": {
   "navigate_menu": true,
   "number_sections": true,
   "sideBar": true,
   "threshold": 6,
   "toc_cell": false,
   "toc_section_display": "block",
   "toc_window_display": false
  }
 },
 "nbformat": 4,
 "nbformat_minor": 0
}
